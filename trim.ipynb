{
 "cells": [
  {
   "cell_type": "code",
   "execution_count": null,
   "metadata": {},
   "outputs": [],
   "source": [
    "import os\n",
    "import glob\n",
    "from PIL import Image\n",
    "import numpy as np\n",
    "import PyPDF2\n",
    "pdf_path = \"original\"\n",
    "pgm_path = \"pgm\"\n",
    "target_path = \"trimed\"\n",
    "os.makedirs(pgm_path, exist_ok=True)\n",
    "os.makedirs(target_path, exist_ok=True)\n",
    "\n",
    "pages = {}\n",
    "for pdf in os.listdir(pdf_path):\n",
    "    os.makedirs(os.path.join(pgm_path, pdf[:-4]), exist_ok=True)\n",
    "    os.system(\"pdftoppm -gray \"+os.path.join(pdf_path, pdf)+\" \"+os.path.join(pgm_path, pdf[:-4], \"pgm\"))\n",
    "    lastpix = None\n",
    "    haslastpix = False\n",
    "\n",
    "    containpages = []\n",
    "    currenthold = -1\n",
    "\n",
    "    filelist = glob.glob(os.path.join(pgm_path, pdf[:-4], '*.pgm'))\n",
    "    for filename in sorted(filelist, key=lambda s: s.lower()):\n",
    "        pagenr = filename.rsplit(\"/\",1)[-1].rsplit(\".\",1)[0].rsplit(\"-\",1)[-1]\n",
    "\n",
    "        img = Image.open(filename)\n",
    "        pix = np.array(img)\n",
    "        img.close()\n",
    "\n",
    "        if haslastpix:\n",
    "            isconsecutive = (((lastpix >= pix).sum() / pix.shape[0] / pix.shape[1]) > 0.9995 )\n",
    "            if not isconsecutive:\n",
    "                containpages.append(currenthold)\n",
    "\n",
    "        lastpix = pix\n",
    "        haslastpix = True\n",
    "        currenthold = int(pagenr)\n",
    "\n",
    "    containpages.append(currenthold)\n",
    "    pages[pdf] = containpages"
   ]
  },
  {
   "cell_type": "code",
   "execution_count": null,
   "metadata": {},
   "outputs": [],
   "source": [
    "for pdf in pages:\n",
    "    in_file = PyPDF2.PdfFileReader(os.path.join(pdf_path, pdf), 'rb') \n",
    "    out_file = PyPDF2.PdfFileWriter()\n",
    "\n",
    "    for pgNo in range(in_file.numPages):\n",
    "        if pgNo+1 in pages[pdf]:\n",
    "            pg = in_file.getPage(pgNo)\n",
    "            out_file.addPage(pg)\n",
    "\n",
    "    with open(os.path.join(target_path, pdf), 'wb') as f:\n",
    "        out_file.write(f)"
   ]
  }
 ],
 "metadata": {
  "kernelspec": {
   "display_name": "base",
   "language": "python",
   "name": "python3"
  },
  "language_info": {
   "codemirror_mode": {
    "name": "ipython",
    "version": 3
   },
   "file_extension": ".py",
   "mimetype": "text/x-python",
   "name": "python",
   "nbconvert_exporter": "python",
   "pygments_lexer": "ipython3",
   "version": "3.10.9"
  }
 },
 "nbformat": 4,
 "nbformat_minor": 2
}
